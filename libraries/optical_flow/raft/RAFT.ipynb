{
  "cells": [
    {
      "cell_type": "code",
      "execution_count": 1,
      "metadata": {
        "colab": {
          "base_uri": "https://localhost:8080/"
        },
        "id": "g9SRILq0soAX",
        "outputId": "f9421bf3-ec69-4f28-c843-3144480143a4"
      },
      "outputs": [
        {
          "name": "stdout",
          "output_type": "stream",
          "text": [
            "[Errno 2] No such file or directory: 'optical-flow/raft'\n",
            "/media/youssef/ubuntu_data/WORK/Roots_Point_Cloud/optical-flow/raft\n",
            "Cloning into 'RAFT'...\n",
            "remote: Enumerating objects: 144, done.\u001b[K\n",
            "remote: Counting objects: 100% (11/11), done.\u001b[K\n",
            "remote: Compressing objects: 100% (9/9), done.\u001b[K\n",
            "remote: Total 144 (delta 2), reused 6 (delta 2), pack-reused 133\u001b[K\n",
            "Receiving objects: 100% (144/144), 10.02 MiB | 2.70 MiB/s, done.\n",
            "Resolving deltas: 100% (51/51), done.\n"
          ]
        }
      ],
      "source": [
        "!git clone https://github.com/princeton-vl/RAFT.git"
      ]
    },
    {
      "cell_type": "code",
      "execution_count": 2,
      "metadata": {
        "colab": {
          "base_uri": "https://localhost:8080/"
        },
        "id": "7qfu1SL6sqxM",
        "outputId": "9fcede23-e669-4329-85da-9c68ea17c84b"
      },
      "outputs": [
        {
          "name": "stdout",
          "output_type": "stream",
          "text": [
            "/media/youssef/ubuntu_data/WORK/Roots_Point_Cloud/optical-flow/raft/RAFT\n"
          ]
        }
      ],
      "source": [
        "%cd RAFT"
      ]
    },
    {
      "cell_type": "code",
      "execution_count": 3,
      "metadata": {
        "colab": {
          "base_uri": "https://localhost:8080/"
        },
        "id": "Jhkohu8xsvHk",
        "outputId": "9282282d-692e-40b2-cc02-a2f13a321fef"
      },
      "outputs": [
        {
          "name": "stdout",
          "output_type": "stream",
          "text": [
            "--2022-01-05 18:15:52--  https://www.dropbox.com/s/4j4z58wuv8o0mfz/models.zip\n",
            "Resolving www.dropbox.com (www.dropbox.com)... 162.125.68.18, 2620:100:6024:18::a27d:4412\n",
            "Connecting to www.dropbox.com (www.dropbox.com)|162.125.68.18|:443... connected.\n",
            "HTTP request sent, awaiting response... 301 Moved Permanently\n",
            "Location: /s/raw/4j4z58wuv8o0mfz/models.zip [following]\n",
            "--2022-01-05 18:15:53--  https://www.dropbox.com/s/raw/4j4z58wuv8o0mfz/models.zip\n",
            "Reusing existing connection to www.dropbox.com:443.\n",
            "HTTP request sent, awaiting response... 302 Found\n",
            "Location: https://ucc24db11a4fb8f3da2607408d71.dl.dropboxusercontent.com/cd/0/inline/BdMVqnnAyuWax0LZLmS3_Mczi88ZftPxDbXQVSv7fW4ZfksI63uSoV0fBgbD3dU5HR4eRBbNTgjeVugT4oOebgk-e0npqjMh-PX-4mPi8RMio1P5kZ7yu9CgFwfGHhmycfxP01I1iYqjq1YZyCRxGqho/file# [following]\n",
            "--2022-01-05 18:15:54--  https://ucc24db11a4fb8f3da2607408d71.dl.dropboxusercontent.com/cd/0/inline/BdMVqnnAyuWax0LZLmS3_Mczi88ZftPxDbXQVSv7fW4ZfksI63uSoV0fBgbD3dU5HR4eRBbNTgjeVugT4oOebgk-e0npqjMh-PX-4mPi8RMio1P5kZ7yu9CgFwfGHhmycfxP01I1iYqjq1YZyCRxGqho/file\n",
            "Resolving ucc24db11a4fb8f3da2607408d71.dl.dropboxusercontent.com (ucc24db11a4fb8f3da2607408d71.dl.dropboxusercontent.com)... 162.125.68.15, 2620:100:6024:15::a27d:440f\n",
            "Connecting to ucc24db11a4fb8f3da2607408d71.dl.dropboxusercontent.com (ucc24db11a4fb8f3da2607408d71.dl.dropboxusercontent.com)|162.125.68.15|:443... connected.\n",
            "HTTP request sent, awaiting response... 302 Found\n",
            "Location: /cd/0/inline2/BdNhgS-Z3qg1J6PVCMB8z431pyyfZCeSYZckpEn4cu-AD27B5fPlsnanrBooOpZrx3tRGpyVDiXi6KXW_DpaNAl40dQjfTCUCMKqqAwMTxQCzAzxCMbkJC6QFQFjC1d6-TzmzWzgOKR3F3GvQtr4DYfDYhd9Hnph9-ix9Wz3tm5o2ARnjlO9h0toXMOi0wJkf1alNhA2U4Ps7WD0S7kVnqCG2TkKyl9CG7lRhbPbdHJp_iyis2M7M0mh-CHFp-I9YT4UfZFHgROXBppOrOxcoLCz9uME3SEYKHYimwqtUVSkZWp9qA-KN3On85h-SMoc7iFu0rkcaDdXD2zbV4CtPDHUaaHhrdXFz9VlS6ihkN9t96kxehnIc2hy-_0n8fstx9A/file [following]\n",
            "--2022-01-05 18:15:54--  https://ucc24db11a4fb8f3da2607408d71.dl.dropboxusercontent.com/cd/0/inline2/BdNhgS-Z3qg1J6PVCMB8z431pyyfZCeSYZckpEn4cu-AD27B5fPlsnanrBooOpZrx3tRGpyVDiXi6KXW_DpaNAl40dQjfTCUCMKqqAwMTxQCzAzxCMbkJC6QFQFjC1d6-TzmzWzgOKR3F3GvQtr4DYfDYhd9Hnph9-ix9Wz3tm5o2ARnjlO9h0toXMOi0wJkf1alNhA2U4Ps7WD0S7kVnqCG2TkKyl9CG7lRhbPbdHJp_iyis2M7M0mh-CHFp-I9YT4UfZFHgROXBppOrOxcoLCz9uME3SEYKHYimwqtUVSkZWp9qA-KN3On85h-SMoc7iFu0rkcaDdXD2zbV4CtPDHUaaHhrdXFz9VlS6ihkN9t96kxehnIc2hy-_0n8fstx9A/file\n",
            "Reusing existing connection to ucc24db11a4fb8f3da2607408d71.dl.dropboxusercontent.com:443.\n",
            "HTTP request sent, awaiting response... 200 OK\n",
            "Length: 81977417 (78M) [application/zip]\n",
            "Saving to: ‘models.zip’\n",
            "\n",
            "models.zip          100%[===================>]  78.18M  4.46MB/s    in 24s     \n",
            "\n",
            "2022-01-05 18:16:20 (3.21 MB/s) - ‘models.zip’ saved [81977417/81977417]\n",
            "\n",
            "Archive:  models.zip\n",
            "   creating: models/\n",
            "  inflating: models/raft-kitti.pth   \n",
            "  inflating: models/raft-sintel.pth  \n",
            "  inflating: models/raft-chairs.pth  \n",
            "  inflating: models/raft-things.pth  \n",
            "  inflating: models/raft-small.pth   \n"
          ]
        }
      ],
      "source": [
        "!./download_models.sh"
      ]
    },
    {
      "cell_type": "code",
      "execution_count": 5,
      "metadata": {},
      "outputs": [],
      "source": [
        "%mkdir -p output"
      ]
    },
    {
      "cell_type": "code",
      "execution_count": null,
      "metadata": {},
      "outputs": [],
      "source": [
        "!python3 demo.py --model=models/raft-things.pth --path=data/MVI_0252"
      ]
    }
  ],
  "metadata": {
    "accelerator": "GPU",
    "colab": {
      "collapsed_sections": [],
      "name": "RAFT",
      "provenance": []
    },
    "kernelspec": {
      "display_name": "Python 3",
      "name": "python3"
    },
    "language_info": {
      "codemirror_mode": {
        "name": "ipython",
        "version": 3
      },
      "file_extension": ".py",
      "mimetype": "text/x-python",
      "name": "python",
      "nbconvert_exporter": "python",
      "pygments_lexer": "ipython3",
      "version": "3.8.10"
    }
  },
  "nbformat": 4,
  "nbformat_minor": 0
}
